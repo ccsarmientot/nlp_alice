{
 "cells": [
  {
   "cell_type": "code",
   "execution_count": 46,
   "metadata": {},
   "outputs": [
    {
     "name": "stdout",
     "output_type": "stream",
     "text": [
      "Alice’s Adventures in Wonderland\n",
      "\n",
      "by Lewis Carroll\n",
      "\n",
      "THE MILLENNIUM FULCRUM EDITION 3.0\n",
      "\n",
      "Contents\n",
      "\n",
      " CHAPTER I.     Down the Rabbit-Hole\n",
      " CHAPTER II.    The Pool of Tears\n",
      " CHAPTER III.   A Caucus-Race and a Long Tale\n",
      " CHAPTER IV.    The Rabbit Sends in a Little Bill\n",
      " CHAPTER V.     Advice from a Caterpillar\n",
      " CHAPTER VI.    Pig and Pepper\n",
      " CHAPTER VII.   A Mad Tea-Party\n",
      " CHAPTER VIII.  The Queen’s Croquet-Ground\n",
      " CHAPTER IX.    The Mock Turtle’s Story\n",
      " CHAPTER X.     The Lobster Quadrille\n",
      " CHAPTER XI.    Who Stole the Tarts?\n",
      " CHAPTER XII.   Alice’s Evidence\n",
      "\n",
      "\n",
      "\n",
      "\n",
      "\n"
     ]
    },
    {
     "name": "stderr",
     "output_type": "stream",
     "text": [
      "[nltk_data] Downloading package stopwords to\n",
      "[nltk_data]     C:\\Users\\A0860770\\AppData\\Roaming\\nltk_data...\n",
      "[nltk_data]   Package stopwords is already up-to-date!\n",
      "[nltk_data] Downloading package wordnet to\n",
      "[nltk_data]     C:\\Users\\A0860770\\AppData\\Roaming\\nltk_data...\n",
      "[nltk_data]   Package wordnet is already up-to-date!\n"
     ]
    }
   ],
   "source": [
    "import pandas as pd\n",
    "import unicodedata\n",
    "import nltk\n",
    "from nltk.stem import WordNetLemmatizer\n",
    "from nltk.stem import PorterStemmer\n",
    "nltk.download('stopwords')\n",
    "nltk.download('wordnet')\n",
    "nltk.download('punkt')\n",
    "\n",
    "## Lectura del archivo\n",
    "with open('alice_in_wonderland.txt', 'r', encoding='utf-8') as f:\n",
    "    contents = f.read()\n",
    "    \n",
    "## primera visualización de los datos:\n",
    "print(contents[835:1400])"
   ]
  },
  {
   "cell_type": "markdown",
   "metadata": {},
   "source": [
    "## 1. Preprocesamiento básico"
   ]
  },
  {
   "cell_type": "markdown",
   "metadata": {},
   "source": [
    "### 1.1 Eliminación de mayúsculas"
   ]
  },
  {
   "cell_type": "code",
   "execution_count": 25,
   "metadata": {},
   "outputs": [
    {
     "name": "stdout",
     "output_type": "stream",
     "text": [
      "the project gutenberg ebook of alice's adventures in wonderland\n",
      "    \n",
      "this ebook is for the use of a\n"
     ]
    }
   ],
   "source": [
    "contents = contents.lower()\n",
    "print(contents[:100])"
   ]
  },
  {
   "cell_type": "markdown",
   "metadata": {},
   "source": [
    "### 1.2 Tokenización"
   ]
  },
  {
   "cell_type": "code",
   "execution_count": 26,
   "metadata": {},
   "outputs": [
    {
     "name": "stdout",
     "output_type": "stream",
     "text": [
      "['the', 'project', 'gutenberg', 'ebook', 'of', 'alice', 's', 'adventures', 'in', 'wonderland']\n"
     ]
    }
   ],
   "source": [
    "## Se extraen las palabras de los contenidos usando tokenización de \n",
    "tokenizer = nltk.tokenize.RegexpTokenizer('\\w+')\n",
    "tokens = tokenizer.tokenize(contents)\n",
    "print(tokens[:10])"
   ]
  },
  {
   "cell_type": "code",
   "execution_count": 27,
   "metadata": {},
   "outputs": [
    {
     "name": "stdout",
     "output_type": "stream",
     "text": [
      "Total palabras:  30591\n",
      "Total unicas:  3143\n"
     ]
    }
   ],
   "source": [
    "print('Total palabras: ', len(tokens))\n",
    "print('Total unicas: ', len(set(tokens)))"
   ]
  },
  {
   "cell_type": "markdown",
   "metadata": {},
   "source": [
    "### 1.3 Stopwords"
   ]
  },
  {
   "cell_type": "code",
   "execution_count": 28,
   "metadata": {},
   "outputs": [
    {
     "name": "stdout",
     "output_type": "stream",
     "text": [
      "['i', 'me', 'my', 'myself', 'we', 'our', 'ours', 'ourselves', 'you', \"you're\"]\n",
      "['project', 'gutenberg', 'ebook', 'alice', 'adventures', 'wonderland', 'ebook', 'use', 'anyone', 'anywhere']\n"
     ]
    }
   ],
   "source": [
    "stop_words = nltk.corpus.stopwords.words('english')\n",
    "\n",
    "print(stop_words[:10])\n",
    "\n",
    "words_filtered = [word for word in tokens if word not in stop_words]\n",
    "print(words_filtered[:10])"
   ]
  },
  {
   "cell_type": "code",
   "execution_count": 31,
   "metadata": {},
   "outputs": [
    {
     "name": "stdout",
     "output_type": "stream",
     "text": [
      "Total palabras quitando stopwords:  14298\n",
      "Total unicas quitando stopwords:  2998\n"
     ]
    }
   ],
   "source": [
    "print('Total palabras quitando stopwords: ', len(words_filtered))\n",
    "print('Total unicas quitando stopwords: ', len(set(words_filtered)))"
   ]
  },
  {
   "cell_type": "markdown",
   "metadata": {},
   "source": [
    "### 1.4 Eliminación de abreviaciones y acentos"
   ]
  },
  {
   "cell_type": "code",
   "execution_count": 34,
   "metadata": {},
   "outputs": [
    {
     "data": {
      "text/plain": [
       "'Eliminacion de acentos'"
      ]
     },
     "execution_count": 34,
     "metadata": {},
     "output_type": "execute_result"
    }
   ],
   "source": [
    "text = 'Eliminación de acentos'\n",
    "unicodedata.normalize('NFKD', text).encode('ascii', 'ignore').decode('utf-8')"
   ]
  },
  {
   "cell_type": "code",
   "execution_count": 35,
   "metadata": {},
   "outputs": [],
   "source": [
    "contents = unicodedata.normalize('NFKD', contents).encode('ascii', 'ignore').decode('utf-8')"
   ]
  },
  {
   "cell_type": "markdown",
   "metadata": {},
   "source": [
    "### 1.5 Lematización"
   ]
  },
  {
   "cell_type": "code",
   "execution_count": 49,
   "metadata": {},
   "outputs": [
    {
     "name": "stdout",
     "output_type": "stream",
     "text": [
      "['project', 'gutenberg', 'ebook', 'alice', 'adventure', 'wonderland', 'ebook', 'use', 'anyone', 'anywhere', 'united', 'state', 'part', 'world', 'cost']\n"
     ]
    }
   ],
   "source": [
    "# Inicializar el lematizador\n",
    "lemmatizer = WordNetLemmatizer()\n",
    "\n",
    "# Matizar cada palabra\n",
    "lemmatized_words = [lemmatizer.lemmatize(word) for word in words_filtered]\n",
    "\n",
    "print(lemmatized_words[:15])"
   ]
  },
  {
   "cell_type": "code",
   "execution_count": 50,
   "metadata": {},
   "outputs": [
    {
     "name": "stdout",
     "output_type": "stream",
     "text": [
      "Total palabras lematizadas:  14298\n",
      "Total unicas lematizadas:  2772\n"
     ]
    }
   ],
   "source": [
    "print('Total palabras lematizadas: ', len(lemmatized_words))\n",
    "print('Total unicas lematizadas: ', len(set(lemmatized_words)))"
   ]
  },
  {
   "cell_type": "markdown",
   "metadata": {},
   "source": [
    "### 1.6 Steaming"
   ]
  },
  {
   "cell_type": "code",
   "execution_count": 53,
   "metadata": {},
   "outputs": [
    {
     "name": "stdout",
     "output_type": "stream",
     "text": [
      "['project', 'gutenberg', 'ebook', 'alic', 'adventur', 'wonderland', 'ebook', 'use', 'anyon', 'anywher', 'unit', 'state', 'part', 'world', 'cost']\n"
     ]
    }
   ],
   "source": [
    "stemmer = PorterStemmer()\n",
    "stemmed_words = [stemmer.stem(word) for word in words_filtered]\n",
    "\n",
    "print(stemmed_words[:15])"
   ]
  },
  {
   "cell_type": "code",
   "execution_count": 54,
   "metadata": {},
   "outputs": [
    {
     "name": "stdout",
     "output_type": "stream",
     "text": [
      "Total palabras steam:  14298\n",
      "Total unicas steam:  2278\n"
     ]
    }
   ],
   "source": [
    "print('Total palabras steam: ', len(stemmed_words))\n",
    "print('Total unicas steam: ', len(set(stemmed_words)))"
   ]
  },
  {
   "cell_type": "markdown",
   "metadata": {},
   "source": [
    "## 2. Técnicas de representación"
   ]
  },
  {
   "cell_type": "markdown",
   "metadata": {},
   "source": [
    "### 2.1 Bag of words"
   ]
  },
  {
   "cell_type": "code",
   "execution_count": 63,
   "metadata": {},
   "outputs": [
    {
     "name": "stdout",
     "output_type": "stream",
     "text": [
      "Palabras: ['000' '11' '1500' '1887' '20' '2001' '2008' '2024' '27' '30' '50' '501'\n",
      " '596' '60' '6221541' '64' '801' '809' '84116' '90' '_alice' '_all'\n",
      " '_all_' '_and' '_are_' '_at' '_before' '_beg_' '_began_' '_best_' '_can_'\n",
      " '_could' '_could_' '_curtseying_' '_don' '_ever_' '_everybody_' '_fit_'\n",
      " '_hated_' '_have_' '_he_' '_her_' '_here_' '_him_' '_his_' '_how' '_i'\n",
      " '_i_' '_in_' '_inside_' '_is_' '_it' '_it_' '_less_' '_little_' '_me_'\n",
      " '_mine_' '_more_' '_must_' '_myself_' '_never_' '_no_' '_not' '_not_'\n",
      " '_one_' '_ours_' '_outside_' '_please_' '_plenty_' '_poison_'\n",
      " '_precious_' '_proves_' '_quite_' '_red_' '_said' '_said_' '_she' '_she_'\n",
      " '_sit_' '_some_' '_somebody_' '_something_' '_somewhere_' '_speaker_'\n",
      " '_stolen' '_that' '_that_' '_their_' '_then_' '_there_' '_these' '_they'\n",
      " '_think_' '_this' '_this_' '_through_' '_tis' '_took' '_turtle'\n",
      " '_twinkle']\n",
      "Bag of Words:\n",
      " [[0 0 0 ... 0 0 0]\n",
      " [0 0 0 ... 0 0 0]\n",
      " [0 0 0 ... 0 0 0]\n",
      " ...\n",
      " [0 0 0 ... 0 0 0]\n",
      " [0 0 0 ... 0 0 0]\n",
      " [0 0 0 ... 0 0 0]]\n"
     ]
    }
   ],
   "source": [
    "from sklearn.feature_extraction.text import CountVectorizer\n",
    "\n",
    "vectorizer = CountVectorizer()\n",
    "X = vectorizer.fit_transform(lemmatized_words)\n",
    "\n",
    "bow_array = X.toarray()\n",
    "feature_names = vectorizer.get_feature_names_out()\n",
    "\n",
    "# Resultado\n",
    "print(\"Palabras:\", feature_names[:100])\n",
    "print(\"Bag of Words:\\n\", bow_array[:10])"
   ]
  },
  {
   "cell_type": "markdown",
   "metadata": {},
   "source": [
    "### 2.2 Bigramas"
   ]
  },
  {
   "cell_type": "code",
   "execution_count": 68,
   "metadata": {},
   "outputs": [
    {
     "data": {
      "text/plain": [
       "[('project', 'gutenberg'),\n",
       " ('gutenberg', 'ebook'),\n",
       " ('ebook', 'alice'),\n",
       " ('alice', 'adventure'),\n",
       " ('adventure', 'wonderland'),\n",
       " ('wonderland', 'ebook'),\n",
       " ('ebook', 'use'),\n",
       " ('use', 'anyone'),\n",
       " ('anyone', 'anywhere'),\n",
       " ('anywhere', 'united')]"
      ]
     },
     "execution_count": 68,
     "metadata": {},
     "output_type": "execute_result"
    }
   ],
   "source": [
    "from nltk import bigrams\n",
    "\n",
    "bigram_list = list(bigrams(lemmatized_words))\n",
    "bigram_list[:10]"
   ]
  },
  {
   "cell_type": "markdown",
   "metadata": {},
   "source": [
    "### 2.3 Term Frequency-Inverse Document Frequency"
   ]
  },
  {
   "cell_type": "code",
   "execution_count": 71,
   "metadata": {},
   "outputs": [
    {
     "name": "stdout",
     "output_type": "stream",
     "text": [
      "Matriz TF-IDF:\n",
      " [[0. 0. 0. ... 0. 0. 0.]\n",
      " [0. 0. 0. ... 0. 0. 0.]\n",
      " [0. 0. 0. ... 0. 0. 0.]\n",
      " ...\n",
      " [0. 0. 0. ... 0. 0. 0.]\n",
      " [0. 0. 0. ... 0. 0. 0.]\n",
      " [0. 0. 0. ... 0. 0. 0.]]\n",
      "Términos:\n",
      " ['000' '11' '1500' ... 'youth' 'zealand' 'zigzag']\n"
     ]
    }
   ],
   "source": [
    "from sklearn.feature_extraction.text import TfidfVectorizer\n",
    "\n",
    "vectorizer = TfidfVectorizer()\n",
    "tfidf_matrix = vectorizer.fit_transform(lemmatized_words)\n",
    "\n",
    "# Mostrar la matriz TF-IDF\n",
    "print(\"Matriz TF-IDF:\\n\", tfidf_matrix.toarray())\n",
    "\n",
    "# Mostrar los términos\n",
    "print(\"Términos:\\n\", vectorizer.get_feature_names_out())"
   ]
  },
  {
   "cell_type": "markdown",
   "metadata": {},
   "source": [
    "## 3. Técnicas de representación adicionales"
   ]
  },
  {
   "cell_type": "markdown",
   "metadata": {},
   "source": [
    "### 3.1. Word2Vec"
   ]
  },
  {
   "cell_type": "code",
   "execution_count": 78,
   "metadata": {},
   "outputs": [
    {
     "name": "stdout",
     "output_type": "stream",
     "text": [
      "Vector para 'a':\n",
      " [-0.06919146  0.1513098   0.09496016  0.00594849  0.03454124 -0.09025294\n",
      "  0.17801334  0.33231354 -0.09633935 -0.22529984  0.12589228 -0.12489654\n",
      " -0.03427171 -0.04333304  0.01649248 -0.13542858  0.2535273   0.02516163\n",
      " -0.1801012  -0.306724    0.04267503 -0.04209262  0.29679888  0.03007597\n",
      " -0.13919196  0.05714276 -0.04823051  0.13802154 -0.09887528  0.10815766\n",
      "  0.04286549 -0.14140335  0.04100087 -0.2178936  -0.05808378  0.05006877\n",
      "  0.12832662 -0.05626721 -0.11570751 -0.00452293  0.05365253 -0.01522636\n",
      " -0.07815081  0.12274932  0.09837615 -0.04236872 -0.03447138 -0.06334791\n",
      "  0.02812665  0.08939759  0.01165137 -0.08046526 -0.05688585 -0.18015818\n",
      " -0.11757441 -0.09710056  0.06164008 -0.00909479  0.02324123  0.05992176\n",
      " -0.01159922 -0.07553179  0.22043096 -0.01771142 -0.08230908  0.15010083\n",
      "  0.0737887   0.2543724  -0.20494641 -0.07147556  0.13142613  0.16014366\n",
      "  0.14667675  0.13136758  0.08621339  0.03798676  0.1356768   0.12125632\n",
      " -0.09168289 -0.12834999 -0.22136536  0.0169786   0.0419469   0.13469866\n",
      " -0.08599161 -0.14954254  0.24005143 -0.03053548 -0.00301568 -0.05859048\n",
      "  0.09478717  0.04118048  0.10177217 -0.06181224  0.32071346  0.04470859\n",
      "  0.11316471 -0.11266243  0.06551406  0.02412876]\n"
     ]
    }
   ],
   "source": [
    "from gensim.models import Word2Vec\n",
    "\n",
    "# Entrenar el modelo Word2Vec\n",
    "model = Word2Vec(lemmatized_words, vector_size=100, window=5, min_count=1, workers=4)\n",
    "\n",
    "# Obtener el vector para una palabra específica (por ejemplo, \"a\")\n",
    "vector = model.wv['a']\n",
    "\n",
    "print(\"Vector para 'a':\\n\", vector)"
   ]
  }
 ],
 "metadata": {
  "kernelspec": {
   "display_name": "Python 3.11.5 ('base')",
   "language": "python",
   "name": "python3"
  },
  "language_info": {
   "codemirror_mode": {
    "name": "ipython",
    "version": 3
   },
   "file_extension": ".py",
   "mimetype": "text/x-python",
   "name": "python",
   "nbconvert_exporter": "python",
   "pygments_lexer": "ipython3",
   "version": "3.11.5"
  },
  "orig_nbformat": 4,
  "vscode": {
   "interpreter": {
    "hash": "3c06e3e46abf38078fe4dac36a0085ec2b134ebbd73dd076183d243eeca6918f"
   }
  }
 },
 "nbformat": 4,
 "nbformat_minor": 2
}
